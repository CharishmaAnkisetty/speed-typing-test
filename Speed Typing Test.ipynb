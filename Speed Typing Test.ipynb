{
 "cells": [
  {
   "cell_type": "code",
   "execution_count": 1,
   "id": "e18936af",
   "metadata": {},
   "outputs": [
    {
     "name": "stdout",
     "output_type": "stream",
     "text": [
      "pygame 2.5.0 (SDL 2.28.0, Python 3.9.12)\n",
      "Hello from the pygame community. https://www.pygame.org/contribute.html\n"
     ]
    }
   ],
   "source": [
    "import time\n",
    "\n",
    "def speedtypingtest():\n",
    "    text = \"speed typing test in python\"\n",
    "    print(\"Type the following text:\")\n",
    "    print(text)\n",
    "    print(\"Press Enter when you're ready.\")\n",
    "    input()\n",
    "\n",
    "    print(\"Starting test...\")\n",
    "    start = time.time()\n",
    "\n",
    "    readtext = input()\n",
    "\n",
    "    end = time.time()\n",
    "    totaltime = end - start\n",
    "\n",
    "    if(readtext==text):\n",
    "        print(\"\\nResults:\")\n",
    "        print(\"Time elapsed: {:.2f} seconds\".format(totaltime))\n",
    "    else:\n",
    "        print(\"you enetered the text wrong!! Try again\")\n",
    "\n",
    "   \n",
    "speedtypingtest()"
   ]
  },
  {
   "cell_type": "code",
   "execution_count": null,
   "id": "a44787ee",
   "metadata": {},
   "outputs": [],
   "source": []
  }
 ],
 "metadata": {
  "kernelspec": {
   "display_name": "Python 3 (ipykernel)",
   "language": "python",
   "name": "python3"
  },
  "language_info": {
   "codemirror_mode": {
    "name": "ipython",
    "version": 3
   },
   "file_extension": ".py",
   "mimetype": "text/x-python",
   "name": "python",
   "nbconvert_exporter": "python",
   "pygments_lexer": "ipython3",
   "version": "3.9.12"
  }
 },
 "nbformat": 4,
 "nbformat_minor": 5
}
